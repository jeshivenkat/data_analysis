{
  "nbformat": 4,
  "nbformat_minor": 0,
  "metadata": {
    "colab": {
      "provenance": []
    },
    "kernelspec": {
      "name": "python3",
      "display_name": "Python 3"
    },
    "language_info": {
      "name": "python"
    }
  },
  "cells": [
    {
      "cell_type": "code",
      "execution_count": null,
      "metadata": {
        "id": "nUtkRsES374D"
      },
      "outputs": [],
      "source": [
        "from bs4 import BeautifulSoup\n",
        "import requests\n",
        "c='https://www.forbesindia.com/article/explainers/top-10-richest-people-india/85909/1'\n",
        "page=requests.get(c)"
      ]
    },
    {
      "cell_type": "code",
      "source": [
        "b=BeautifulSoup(page.text,'html')\n",
        "print(b)"
      ],
      "metadata": {
        "id": "0wH42Q8649Tq"
      },
      "execution_count": null,
      "outputs": []
    },
    {
      "cell_type": "code",
      "source": [
        "table=b.find('table')\n",
        "print(table)"
      ],
      "metadata": {
        "colab": {
          "base_uri": "https://localhost:8080/"
        },
        "id": "D6a88MXU6xsF",
        "outputId": "67746e11-672f-4808-fced-870ac4d79ed6"
      },
      "execution_count": null,
      "outputs": [
        {
          "output_type": "stream",
          "name": "stdout",
          "text": [
            "<table style=\"border-collapse: collapse;\">\n",
            "<tbody>\n",
            "<tr>\n",
            "<th style=\"border: 1px solid black; padding: 8px;\"><strong>Name &amp; India Rank</strong></th>\n",
            "<th style=\"border: 1px solid black; padding: 8px;\"><strong>Global Rank</strong></th>\n",
            "<th style=\"border: 1px solid black; padding: 8px;\"><strong>Net worth (US$)</strong></th>\n",
            "<th style=\"border: 1px solid black; padding: 8px;\"><strong>Company</strong></th>\n",
            "</tr>\n",
            "<tr>\n",
            "<td style=\"border: 1px solid black; padding: 8px;\">#1 Mukesh Ambani <br/></td>\n",
            "<td style=\"border: 1px solid black; padding: 8px;\">11</td>\n",
            "<td style=\"border: 1px solid black; padding: 8px;\">$113.0 B</td>\n",
            "<td style=\"border: 1px solid black; padding: 8px;\">Reliance Industries</td>\n",
            "</tr>\n",
            "<tr>\n",
            "<td style=\"border: 1px solid black; padding: 8px;\">#2 Gautam Adani <br/></td>\n",
            "<td style=\"border: 1px solid black; padding: 8px;\">16<br/></td>\n",
            "<td style=\"border: 1px solid black; padding: 8px;\">$81.2 B</td>\n",
            "<td style=\"border: 1px solid black; padding: 8px;\">Adani Group</td>\n",
            "</tr>\n",
            "<tr>\n",
            "<td style=\"border: 1px solid black; padding: 8px;\">#3 Shiv Nadar <br/></td>\n",
            "<td style=\"border: 1px solid black; padding: 8px;\">37<br/></td>\n",
            "<td style=\"border: 1px solid black; padding: 8px;\">$37.1 B</td>\n",
            "<td style=\"border: 1px solid black; padding: 8px;\">HCL Technologies   <br/></td>\n",
            "</tr>\n",
            "<tr>\n",
            "<td style=\"border: 1px solid black; padding: 8px;\">#4 Savitri Jindal &amp; family <br/></td>\n",
            "<td style=\"border: 1px solid black; padding: 8px;\">58<br/></td>\n",
            "<td style=\"border: 1px solid black; padding: 8px;\">$28.9 B</td>\n",
            "<td style=\"border: 1px solid black; padding: 8px;\">JSW Group<br/></td>\n",
            "</tr>\n",
            "<tr>\n",
            "<td style=\"border: 1px solid black; padding: 8px;\">#5 Cyrus Poonawalla <br/></td>\n",
            "<td style=\"border: 1px solid black; padding: 8px;\">68<br/></td>\n",
            "<td style=\"border: 1px solid black; padding: 8px;\">$25.6 B</td>\n",
            "<td style=\"border: 1px solid black; padding: 8px;\">Serum Institute of India<br/></td>\n",
            "</tr>\n",
            "<tr>\n",
            "<td style=\"border: 1px solid black; padding: 8px;\">#6 Dilip Shanghvi <br/></td>\n",
            "<td style=\"border: 1px solid black; padding: 8px;\">69<br/></td>\n",
            "<td style=\"border: 1px solid black; padding: 8px;\">$25.5 B</td>\n",
            "<td style=\"border: 1px solid black; padding: 8px;\">Sun Pharmaceutical Industries Ltd</td>\n",
            "</tr>\n",
            "<tr><td style=\"border: 1px solid black; padding: 8px;\">#7 Kumar Birla <br/></td>\n",
            "<td style=\"border: 1px solid black; padding: 8px;\">97<br/></td>\n",
            "<td style=\"border: 1px solid black; padding: 8px;\">$18.9 B</td>\n",
            "<td style=\"border: 1px solid black; padding: 8px;\">Aditya Birla Group<br/></td>\n",
            "</tr>\n",
            "<tr>\n",
            "<td style=\"border: 1px solid black; padding: 8px;\">#8 Kushal Pal Singh<br/></td>\n",
            "<td style=\"border: 1px solid black; padding: 8px;\">98<br/></td>\n",
            "<td style=\"border: 1px solid black; padding: 8px;\">$18.9 B</td>\n",
            "<td style=\"border: 1px solid black; padding: 8px;\">DLF Limited<br/></td>\n",
            "</tr>\n",
            "<tr>\n",
            "</tr><tr>\n",
            "<td style=\"border: 1px solid black; padding: 8px;\">#9 Lakshmi Mittal <br/></td>\n",
            "<td style=\"border: 1px solid black; padding: 8px;\">102</td>\n",
            "<td style=\"border: 1px solid black; padding: 8px;\">$17.2 B</td>\n",
            "<td style=\"border: 1px solid black; padding: 8px;\">ArcelorMittal<br/></td>\n",
            "</tr>\n",
            "<tr><td style=\"border: 1px solid black; padding: 8px;\">#10 Radhakishan Damani <br/></td>\n",
            "<td style=\"border: 1px solid black; padding: 8px;\">105<br/></td>\n",
            "<td style=\"border: 1px solid black; padding: 8px;\">$16.7 B</td>\n",
            "<td style=\"border: 1px solid black; padding: 8px;\">DMart, Avenue Supermarts</td>\n",
            "</tr>\n",
            "</tbody>\n",
            "</table>\n"
          ]
        }
      ]
    },
    {
      "cell_type": "code",
      "source": [],
      "metadata": {
        "id": "ycfzjmnd6YWt"
      },
      "execution_count": null,
      "outputs": []
    },
    {
      "cell_type": "code",
      "source": [
        "headings=table.find_all('th')\n",
        "print(headings)"
      ],
      "metadata": {
        "colab": {
          "base_uri": "https://localhost:8080/"
        },
        "id": "ZKyP3zMG7Psb",
        "outputId": "fa57985a-17c8-49c7-e253-1ba894dc0f1c"
      },
      "execution_count": null,
      "outputs": [
        {
          "output_type": "stream",
          "name": "stdout",
          "text": [
            "[<th style=\"border: 1px solid black; padding: 8px;\"><strong>Name &amp; India Rank</strong></th>, <th style=\"border: 1px solid black; padding: 8px;\"><strong>Global Rank</strong></th>, <th style=\"border: 1px solid black; padding: 8px;\"><strong>Net worth (US$)</strong></th>, <th style=\"border: 1px solid black; padding: 8px;\"><strong>Company</strong></th>]\n"
          ]
        }
      ]
    },
    {
      "cell_type": "code",
      "source": [
        "head=[]\n",
        "for i in headings:\n",
        "\n",
        "    head.append(i.text)\n",
        "print(head)"
      ],
      "metadata": {
        "colab": {
          "base_uri": "https://localhost:8080/"
        },
        "id": "YhpHusvD8Nel",
        "outputId": "2a751fed-ca92-492b-bcfc-10883ef85d31"
      },
      "execution_count": null,
      "outputs": [
        {
          "output_type": "stream",
          "name": "stdout",
          "text": [
            "['Name & India Rank', 'Global Rank', 'Net worth (US$)', 'Company']\n"
          ]
        }
      ]
    },
    {
      "cell_type": "code",
      "source": [
        "#list comprehension syntax:\n",
        "#list_name=[o/p for]\n",
        "h=[i.text for i in headings]\n",
        "print(h)"
      ],
      "metadata": {
        "colab": {
          "base_uri": "https://localhost:8080/"
        },
        "id": "OS8yAYrU_8rv",
        "outputId": "d82ce2ad-ba1e-4350-ae05-f2d4ae95575f"
      },
      "execution_count": null,
      "outputs": [
        {
          "output_type": "stream",
          "name": "stdout",
          "text": [
            "['Name & India Rank', 'Global Rank', 'Net worth (US$)', 'Company']\n"
          ]
        }
      ]
    },
    {
      "cell_type": "code",
      "source": [
        "#creating a dataframe\n",
        "import pandas as pd\n",
        "df_name=pd.DataFrame(columns=h)\n",
        "print(df_name)"
      ],
      "metadata": {
        "colab": {
          "base_uri": "https://localhost:8080/"
        },
        "id": "M4RceAhgBgvo",
        "outputId": "cfbbc5cf-9182-4db0-c898-8585922ff815"
      },
      "execution_count": null,
      "outputs": [
        {
          "output_type": "stream",
          "name": "stdout",
          "text": [
            "Empty DataFrame\n",
            "Columns: [Name & India Rank, Global Rank, Net worth (US$), Company]\n",
            "Index: []\n"
          ]
        }
      ]
    },
    {
      "cell_type": "code",
      "source": [
        "rows=table.find_all('tr')\n",
        "print(rows)"
      ],
      "metadata": {
        "colab": {
          "base_uri": "https://localhost:8080/"
        },
        "id": "iqgMfWTcCl1p",
        "outputId": "0804aca0-e9fc-43c1-c4d7-00ff1ea76173"
      },
      "execution_count": null,
      "outputs": [
        {
          "output_type": "stream",
          "name": "stdout",
          "text": [
            "[<tr>\n",
            "<th style=\"border: 1px solid black; padding: 8px;\"><strong>Name &amp; India Rank</strong></th>\n",
            "<th style=\"border: 1px solid black; padding: 8px;\"><strong>Global Rank</strong></th>\n",
            "<th style=\"border: 1px solid black; padding: 8px;\"><strong>Net worth (US$)</strong></th>\n",
            "<th style=\"border: 1px solid black; padding: 8px;\"><strong>Company</strong></th>\n",
            "</tr>, <tr>\n",
            "<td style=\"border: 1px solid black; padding: 8px;\">#1 Mukesh Ambani <br/></td>\n",
            "<td style=\"border: 1px solid black; padding: 8px;\">11</td>\n",
            "<td style=\"border: 1px solid black; padding: 8px;\">$113.0 B</td>\n",
            "<td style=\"border: 1px solid black; padding: 8px;\">Reliance Industries</td>\n",
            "</tr>, <tr>\n",
            "<td style=\"border: 1px solid black; padding: 8px;\">#2 Gautam Adani <br/></td>\n",
            "<td style=\"border: 1px solid black; padding: 8px;\">16<br/></td>\n",
            "<td style=\"border: 1px solid black; padding: 8px;\">$81.2 B</td>\n",
            "<td style=\"border: 1px solid black; padding: 8px;\">Adani Group</td>\n",
            "</tr>, <tr>\n",
            "<td style=\"border: 1px solid black; padding: 8px;\">#3 Shiv Nadar <br/></td>\n",
            "<td style=\"border: 1px solid black; padding: 8px;\">37<br/></td>\n",
            "<td style=\"border: 1px solid black; padding: 8px;\">$37.1 B</td>\n",
            "<td style=\"border: 1px solid black; padding: 8px;\">HCL Technologies   <br/></td>\n",
            "</tr>, <tr>\n",
            "<td style=\"border: 1px solid black; padding: 8px;\">#4 Savitri Jindal &amp; family <br/></td>\n",
            "<td style=\"border: 1px solid black; padding: 8px;\">58<br/></td>\n",
            "<td style=\"border: 1px solid black; padding: 8px;\">$28.9 B</td>\n",
            "<td style=\"border: 1px solid black; padding: 8px;\">JSW Group<br/></td>\n",
            "</tr>, <tr>\n",
            "<td style=\"border: 1px solid black; padding: 8px;\">#5 Cyrus Poonawalla <br/></td>\n",
            "<td style=\"border: 1px solid black; padding: 8px;\">68<br/></td>\n",
            "<td style=\"border: 1px solid black; padding: 8px;\">$25.6 B</td>\n",
            "<td style=\"border: 1px solid black; padding: 8px;\">Serum Institute of India<br/></td>\n",
            "</tr>, <tr>\n",
            "<td style=\"border: 1px solid black; padding: 8px;\">#6 Dilip Shanghvi <br/></td>\n",
            "<td style=\"border: 1px solid black; padding: 8px;\">69<br/></td>\n",
            "<td style=\"border: 1px solid black; padding: 8px;\">$25.5 B</td>\n",
            "<td style=\"border: 1px solid black; padding: 8px;\">Sun Pharmaceutical Industries Ltd</td>\n",
            "</tr>, <tr><td style=\"border: 1px solid black; padding: 8px;\">#7 Kumar Birla <br/></td>\n",
            "<td style=\"border: 1px solid black; padding: 8px;\">97<br/></td>\n",
            "<td style=\"border: 1px solid black; padding: 8px;\">$18.9 B</td>\n",
            "<td style=\"border: 1px solid black; padding: 8px;\">Aditya Birla Group<br/></td>\n",
            "</tr>, <tr>\n",
            "<td style=\"border: 1px solid black; padding: 8px;\">#8 Kushal Pal Singh<br/></td>\n",
            "<td style=\"border: 1px solid black; padding: 8px;\">98<br/></td>\n",
            "<td style=\"border: 1px solid black; padding: 8px;\">$18.9 B</td>\n",
            "<td style=\"border: 1px solid black; padding: 8px;\">DLF Limited<br/></td>\n",
            "</tr>, <tr>\n",
            "</tr>, <tr>\n",
            "<td style=\"border: 1px solid black; padding: 8px;\">#9 Lakshmi Mittal <br/></td>\n",
            "<td style=\"border: 1px solid black; padding: 8px;\">102</td>\n",
            "<td style=\"border: 1px solid black; padding: 8px;\">$17.2 B</td>\n",
            "<td style=\"border: 1px solid black; padding: 8px;\">ArcelorMittal<br/></td>\n",
            "</tr>, <tr><td style=\"border: 1px solid black; padding: 8px;\">#10 Radhakishan Damani <br/></td>\n",
            "<td style=\"border: 1px solid black; padding: 8px;\">105<br/></td>\n",
            "<td style=\"border: 1px solid black; padding: 8px;\">$16.7 B</td>\n",
            "<td style=\"border: 1px solid black; padding: 8px;\">DMart, Avenue Supermarts</td>\n",
            "</tr>]\n"
          ]
        }
      ]
    },
    {
      "cell_type": "code",
      "source": [
        "rows=table.find_all('tr')\n",
        "ind=0\n",
        "for i in rows[1:6]\n",
        "    #print(i)\n",
        "    erd=i.find_all('td')\n",
        "    #print(erd)\n",
        "    rd=[j.text for j in erd]\n",
        "    print(rd)\n",
        "    df_name.loc[ind]=rd\n",
        "    ind=ind+1"
      ],
      "metadata": {
        "colab": {
          "base_uri": "https://localhost:8080/"
        },
        "id": "BUxpZ5UOFJ0M",
        "outputId": "6c5b0c07-6c84-4d69-d16f-dd27fc5b9ae8"
      },
      "execution_count": null,
      "outputs": [
        {
          "output_type": "stream",
          "name": "stdout",
          "text": [
            "['#1 Mukesh Ambani ', '11', '$113.0 B', 'Reliance Industries']\n",
            "['#2 Gautam Adani ', '16', '$81.2 B', 'Adani Group']\n",
            "['#3 Shiv Nadar ', '37', '$37.1 B', 'HCL Technologies\\xa0\\xa0 ']\n",
            "['#4 Savitri Jindal & family ', '58', '$28.9 B', 'JSW Group']\n",
            "['#5 Cyrus Poonawalla ', '68', '$25.6 B', 'Serum Institute of India']\n"
          ]
        }
      ]
    },
    {
      "cell_type": "code",
      "source": [
        "df_name\n"
      ],
      "metadata": {
        "colab": {
          "base_uri": "https://localhost:8080/",
          "height": 206
        },
        "id": "CQKwXqfTKo70",
        "outputId": "7ba95e0f-2607-40ab-98d4-af57e4b8d84d"
      },
      "execution_count": null,
      "outputs": [
        {
          "output_type": "execute_result",
          "data": {
            "text/plain": [
              "             Name & India Rank Global Rank Net worth (US$)  \\\n",
              "0            #1 Mukesh Ambani           11        $113.0 B   \n",
              "1             #2 Gautam Adani           16         $81.2 B   \n",
              "2               #3 Shiv Nadar           37         $37.1 B   \n",
              "3  #4 Savitri Jindal & family           58         $28.9 B   \n",
              "4         #5 Cyrus Poonawalla           68         $25.6 B   \n",
              "\n",
              "                    Company  \n",
              "0       Reliance Industries  \n",
              "1               Adani Group  \n",
              "2       HCL Technologies     \n",
              "3                 JSW Group  \n",
              "4  Serum Institute of India  "
            ],
            "text/html": [
              "\n",
              "  <div id=\"df-db59cb8b-a6a0-4351-9ef5-0ed937542cd8\" class=\"colab-df-container\">\n",
              "    <div>\n",
              "<style scoped>\n",
              "    .dataframe tbody tr th:only-of-type {\n",
              "        vertical-align: middle;\n",
              "    }\n",
              "\n",
              "    .dataframe tbody tr th {\n",
              "        vertical-align: top;\n",
              "    }\n",
              "\n",
              "    .dataframe thead th {\n",
              "        text-align: right;\n",
              "    }\n",
              "</style>\n",
              "<table border=\"1\" class=\"dataframe\">\n",
              "  <thead>\n",
              "    <tr style=\"text-align: right;\">\n",
              "      <th></th>\n",
              "      <th>Name &amp; India Rank</th>\n",
              "      <th>Global Rank</th>\n",
              "      <th>Net worth (US$)</th>\n",
              "      <th>Company</th>\n",
              "    </tr>\n",
              "  </thead>\n",
              "  <tbody>\n",
              "    <tr>\n",
              "      <th>0</th>\n",
              "      <td>#1 Mukesh Ambani</td>\n",
              "      <td>11</td>\n",
              "      <td>$113.0 B</td>\n",
              "      <td>Reliance Industries</td>\n",
              "    </tr>\n",
              "    <tr>\n",
              "      <th>1</th>\n",
              "      <td>#2 Gautam Adani</td>\n",
              "      <td>16</td>\n",
              "      <td>$81.2 B</td>\n",
              "      <td>Adani Group</td>\n",
              "    </tr>\n",
              "    <tr>\n",
              "      <th>2</th>\n",
              "      <td>#3 Shiv Nadar</td>\n",
              "      <td>37</td>\n",
              "      <td>$37.1 B</td>\n",
              "      <td>HCL Technologies</td>\n",
              "    </tr>\n",
              "    <tr>\n",
              "      <th>3</th>\n",
              "      <td>#4 Savitri Jindal &amp; family</td>\n",
              "      <td>58</td>\n",
              "      <td>$28.9 B</td>\n",
              "      <td>JSW Group</td>\n",
              "    </tr>\n",
              "    <tr>\n",
              "      <th>4</th>\n",
              "      <td>#5 Cyrus Poonawalla</td>\n",
              "      <td>68</td>\n",
              "      <td>$25.6 B</td>\n",
              "      <td>Serum Institute of India</td>\n",
              "    </tr>\n",
              "  </tbody>\n",
              "</table>\n",
              "</div>\n",
              "    <div class=\"colab-df-buttons\">\n",
              "\n",
              "  <div class=\"colab-df-container\">\n",
              "    <button class=\"colab-df-convert\" onclick=\"convertToInteractive('df-db59cb8b-a6a0-4351-9ef5-0ed937542cd8')\"\n",
              "            title=\"Convert this dataframe to an interactive table.\"\n",
              "            style=\"display:none;\">\n",
              "\n",
              "  <svg xmlns=\"http://www.w3.org/2000/svg\" height=\"24px\" viewBox=\"0 -960 960 960\">\n",
              "    <path d=\"M120-120v-720h720v720H120Zm60-500h600v-160H180v160Zm220 220h160v-160H400v160Zm0 220h160v-160H400v160ZM180-400h160v-160H180v160Zm440 0h160v-160H620v160ZM180-180h160v-160H180v160Zm440 0h160v-160H620v160Z\"/>\n",
              "  </svg>\n",
              "    </button>\n",
              "\n",
              "  <style>\n",
              "    .colab-df-container {\n",
              "      display:flex;\n",
              "      gap: 12px;\n",
              "    }\n",
              "\n",
              "    .colab-df-convert {\n",
              "      background-color: #E8F0FE;\n",
              "      border: none;\n",
              "      border-radius: 50%;\n",
              "      cursor: pointer;\n",
              "      display: none;\n",
              "      fill: #1967D2;\n",
              "      height: 32px;\n",
              "      padding: 0 0 0 0;\n",
              "      width: 32px;\n",
              "    }\n",
              "\n",
              "    .colab-df-convert:hover {\n",
              "      background-color: #E2EBFA;\n",
              "      box-shadow: 0px 1px 2px rgba(60, 64, 67, 0.3), 0px 1px 3px 1px rgba(60, 64, 67, 0.15);\n",
              "      fill: #174EA6;\n",
              "    }\n",
              "\n",
              "    .colab-df-buttons div {\n",
              "      margin-bottom: 4px;\n",
              "    }\n",
              "\n",
              "    [theme=dark] .colab-df-convert {\n",
              "      background-color: #3B4455;\n",
              "      fill: #D2E3FC;\n",
              "    }\n",
              "\n",
              "    [theme=dark] .colab-df-convert:hover {\n",
              "      background-color: #434B5C;\n",
              "      box-shadow: 0px 1px 3px 1px rgba(0, 0, 0, 0.15);\n",
              "      filter: drop-shadow(0px 1px 2px rgba(0, 0, 0, 0.3));\n",
              "      fill: #FFFFFF;\n",
              "    }\n",
              "  </style>\n",
              "\n",
              "    <script>\n",
              "      const buttonEl =\n",
              "        document.querySelector('#df-db59cb8b-a6a0-4351-9ef5-0ed937542cd8 button.colab-df-convert');\n",
              "      buttonEl.style.display =\n",
              "        google.colab.kernel.accessAllowed ? 'block' : 'none';\n",
              "\n",
              "      async function convertToInteractive(key) {\n",
              "        const element = document.querySelector('#df-db59cb8b-a6a0-4351-9ef5-0ed937542cd8');\n",
              "        const dataTable =\n",
              "          await google.colab.kernel.invokeFunction('convertToInteractive',\n",
              "                                                    [key], {});\n",
              "        if (!dataTable) return;\n",
              "\n",
              "        const docLinkHtml = 'Like what you see? Visit the ' +\n",
              "          '<a target=\"_blank\" href=https://colab.research.google.com/notebooks/data_table.ipynb>data table notebook</a>'\n",
              "          + ' to learn more about interactive tables.';\n",
              "        element.innerHTML = '';\n",
              "        dataTable['output_type'] = 'display_data';\n",
              "        await google.colab.output.renderOutput(dataTable, element);\n",
              "        const docLink = document.createElement('div');\n",
              "        docLink.innerHTML = docLinkHtml;\n",
              "        element.appendChild(docLink);\n",
              "      }\n",
              "    </script>\n",
              "  </div>\n",
              "\n",
              "\n",
              "<div id=\"df-898d9230-5a89-4e37-8429-75ab1558e832\">\n",
              "  <button class=\"colab-df-quickchart\" onclick=\"quickchart('df-898d9230-5a89-4e37-8429-75ab1558e832')\"\n",
              "            title=\"Suggest charts\"\n",
              "            style=\"display:none;\">\n",
              "\n",
              "<svg xmlns=\"http://www.w3.org/2000/svg\" height=\"24px\"viewBox=\"0 0 24 24\"\n",
              "     width=\"24px\">\n",
              "    <g>\n",
              "        <path d=\"M19 3H5c-1.1 0-2 .9-2 2v14c0 1.1.9 2 2 2h14c1.1 0 2-.9 2-2V5c0-1.1-.9-2-2-2zM9 17H7v-7h2v7zm4 0h-2V7h2v10zm4 0h-2v-4h2v4z\"/>\n",
              "    </g>\n",
              "</svg>\n",
              "  </button>\n",
              "\n",
              "<style>\n",
              "  .colab-df-quickchart {\n",
              "      --bg-color: #E8F0FE;\n",
              "      --fill-color: #1967D2;\n",
              "      --hover-bg-color: #E2EBFA;\n",
              "      --hover-fill-color: #174EA6;\n",
              "      --disabled-fill-color: #AAA;\n",
              "      --disabled-bg-color: #DDD;\n",
              "  }\n",
              "\n",
              "  [theme=dark] .colab-df-quickchart {\n",
              "      --bg-color: #3B4455;\n",
              "      --fill-color: #D2E3FC;\n",
              "      --hover-bg-color: #434B5C;\n",
              "      --hover-fill-color: #FFFFFF;\n",
              "      --disabled-bg-color: #3B4455;\n",
              "      --disabled-fill-color: #666;\n",
              "  }\n",
              "\n",
              "  .colab-df-quickchart {\n",
              "    background-color: var(--bg-color);\n",
              "    border: none;\n",
              "    border-radius: 50%;\n",
              "    cursor: pointer;\n",
              "    display: none;\n",
              "    fill: var(--fill-color);\n",
              "    height: 32px;\n",
              "    padding: 0;\n",
              "    width: 32px;\n",
              "  }\n",
              "\n",
              "  .colab-df-quickchart:hover {\n",
              "    background-color: var(--hover-bg-color);\n",
              "    box-shadow: 0 1px 2px rgba(60, 64, 67, 0.3), 0 1px 3px 1px rgba(60, 64, 67, 0.15);\n",
              "    fill: var(--button-hover-fill-color);\n",
              "  }\n",
              "\n",
              "  .colab-df-quickchart-complete:disabled,\n",
              "  .colab-df-quickchart-complete:disabled:hover {\n",
              "    background-color: var(--disabled-bg-color);\n",
              "    fill: var(--disabled-fill-color);\n",
              "    box-shadow: none;\n",
              "  }\n",
              "\n",
              "  .colab-df-spinner {\n",
              "    border: 2px solid var(--fill-color);\n",
              "    border-color: transparent;\n",
              "    border-bottom-color: var(--fill-color);\n",
              "    animation:\n",
              "      spin 1s steps(1) infinite;\n",
              "  }\n",
              "\n",
              "  @keyframes spin {\n",
              "    0% {\n",
              "      border-color: transparent;\n",
              "      border-bottom-color: var(--fill-color);\n",
              "      border-left-color: var(--fill-color);\n",
              "    }\n",
              "    20% {\n",
              "      border-color: transparent;\n",
              "      border-left-color: var(--fill-color);\n",
              "      border-top-color: var(--fill-color);\n",
              "    }\n",
              "    30% {\n",
              "      border-color: transparent;\n",
              "      border-left-color: var(--fill-color);\n",
              "      border-top-color: var(--fill-color);\n",
              "      border-right-color: var(--fill-color);\n",
              "    }\n",
              "    40% {\n",
              "      border-color: transparent;\n",
              "      border-right-color: var(--fill-color);\n",
              "      border-top-color: var(--fill-color);\n",
              "    }\n",
              "    60% {\n",
              "      border-color: transparent;\n",
              "      border-right-color: var(--fill-color);\n",
              "    }\n",
              "    80% {\n",
              "      border-color: transparent;\n",
              "      border-right-color: var(--fill-color);\n",
              "      border-bottom-color: var(--fill-color);\n",
              "    }\n",
              "    90% {\n",
              "      border-color: transparent;\n",
              "      border-bottom-color: var(--fill-color);\n",
              "    }\n",
              "  }\n",
              "</style>\n",
              "\n",
              "  <script>\n",
              "    async function quickchart(key) {\n",
              "      const quickchartButtonEl =\n",
              "        document.querySelector('#' + key + ' button');\n",
              "      quickchartButtonEl.disabled = true;  // To prevent multiple clicks.\n",
              "      quickchartButtonEl.classList.add('colab-df-spinner');\n",
              "      try {\n",
              "        const charts = await google.colab.kernel.invokeFunction(\n",
              "            'suggestCharts', [key], {});\n",
              "      } catch (error) {\n",
              "        console.error('Error during call to suggestCharts:', error);\n",
              "      }\n",
              "      quickchartButtonEl.classList.remove('colab-df-spinner');\n",
              "      quickchartButtonEl.classList.add('colab-df-quickchart-complete');\n",
              "    }\n",
              "    (() => {\n",
              "      let quickchartButtonEl =\n",
              "        document.querySelector('#df-898d9230-5a89-4e37-8429-75ab1558e832 button');\n",
              "      quickchartButtonEl.style.display =\n",
              "        google.colab.kernel.accessAllowed ? 'block' : 'none';\n",
              "    })();\n",
              "  </script>\n",
              "</div>\n",
              "\n",
              "  <div id=\"id_09e1468e-1950-46bf-9075-25f731d010b5\">\n",
              "    <style>\n",
              "      .colab-df-generate {\n",
              "        background-color: #E8F0FE;\n",
              "        border: none;\n",
              "        border-radius: 50%;\n",
              "        cursor: pointer;\n",
              "        display: none;\n",
              "        fill: #1967D2;\n",
              "        height: 32px;\n",
              "        padding: 0 0 0 0;\n",
              "        width: 32px;\n",
              "      }\n",
              "\n",
              "      .colab-df-generate:hover {\n",
              "        background-color: #E2EBFA;\n",
              "        box-shadow: 0px 1px 2px rgba(60, 64, 67, 0.3), 0px 1px 3px 1px rgba(60, 64, 67, 0.15);\n",
              "        fill: #174EA6;\n",
              "      }\n",
              "\n",
              "      [theme=dark] .colab-df-generate {\n",
              "        background-color: #3B4455;\n",
              "        fill: #D2E3FC;\n",
              "      }\n",
              "\n",
              "      [theme=dark] .colab-df-generate:hover {\n",
              "        background-color: #434B5C;\n",
              "        box-shadow: 0px 1px 3px 1px rgba(0, 0, 0, 0.15);\n",
              "        filter: drop-shadow(0px 1px 2px rgba(0, 0, 0, 0.3));\n",
              "        fill: #FFFFFF;\n",
              "      }\n",
              "    </style>\n",
              "    <button class=\"colab-df-generate\" onclick=\"generateWithVariable('df_name')\"\n",
              "            title=\"Generate code using this dataframe.\"\n",
              "            style=\"display:none;\">\n",
              "\n",
              "  <svg xmlns=\"http://www.w3.org/2000/svg\" height=\"24px\"viewBox=\"0 0 24 24\"\n",
              "       width=\"24px\">\n",
              "    <path d=\"M7,19H8.4L18.45,9,17,7.55,7,17.6ZM5,21V16.75L18.45,3.32a2,2,0,0,1,2.83,0l1.4,1.43a1.91,1.91,0,0,1,.58,1.4,1.91,1.91,0,0,1-.58,1.4L9.25,21ZM18.45,9,17,7.55Zm-12,3A5.31,5.31,0,0,0,4.9,8.1,5.31,5.31,0,0,0,1,6.5,5.31,5.31,0,0,0,4.9,4.9,5.31,5.31,0,0,0,6.5,1,5.31,5.31,0,0,0,8.1,4.9,5.31,5.31,0,0,0,12,6.5,5.46,5.46,0,0,0,6.5,12Z\"/>\n",
              "  </svg>\n",
              "    </button>\n",
              "    <script>\n",
              "      (() => {\n",
              "      const buttonEl =\n",
              "        document.querySelector('#id_09e1468e-1950-46bf-9075-25f731d010b5 button.colab-df-generate');\n",
              "      buttonEl.style.display =\n",
              "        google.colab.kernel.accessAllowed ? 'block' : 'none';\n",
              "\n",
              "      buttonEl.onclick = () => {\n",
              "        google.colab.notebook.generateWithVariable('df_name');\n",
              "      }\n",
              "      })();\n",
              "    </script>\n",
              "  </div>\n",
              "\n",
              "    </div>\n",
              "  </div>\n"
            ],
            "application/vnd.google.colaboratory.intrinsic+json": {
              "type": "dataframe",
              "variable_name": "df_name",
              "summary": "{\n  \"name\": \"df_name\",\n  \"rows\": 5,\n  \"fields\": [\n    {\n      \"column\": \"Name & India Rank\",\n      \"properties\": {\n        \"dtype\": \"string\",\n        \"samples\": [\n          \"#2 Gautam Adani \",\n          \"#5 Cyrus Poonawalla \",\n          \"#3 Shiv Nadar \"\n        ],\n        \"num_unique_values\": 5,\n        \"semantic_type\": \"\",\n        \"description\": \"\"\n      }\n    },\n    {\n      \"column\": \"Global Rank\",\n      \"properties\": {\n        \"dtype\": \"string\",\n        \"samples\": [\n          \"16\",\n          \"68\",\n          \"37\"\n        ],\n        \"num_unique_values\": 5,\n        \"semantic_type\": \"\",\n        \"description\": \"\"\n      }\n    },\n    {\n      \"column\": \"Net worth (US$)\",\n      \"properties\": {\n        \"dtype\": \"string\",\n        \"samples\": [\n          \"$81.2 B\",\n          \"$25.6 B\",\n          \"$37.1 B\"\n        ],\n        \"num_unique_values\": 5,\n        \"semantic_type\": \"\",\n        \"description\": \"\"\n      }\n    },\n    {\n      \"column\": \"Company\",\n      \"properties\": {\n        \"dtype\": \"string\",\n        \"samples\": [\n          \"Adani Group\",\n          \"Serum Institute of India\",\n          \"HCL Technologies\\u00a0\\u00a0 \"\n        ],\n        \"num_unique_values\": 5,\n        \"semantic_type\": \"\",\n        \"description\": \"\"\n      }\n    }\n  ]\n}"
            }
          },
          "metadata": {},
          "execution_count": 45
        }
      ]
    },
    {
      "cell_type": "code",
      "source": [
        "df_name.to_csv('df_name.csv')"
      ],
      "metadata": {
        "id": "Mz2fHMPFLug9"
      },
      "execution_count": null,
      "outputs": []
    }
  ]
}