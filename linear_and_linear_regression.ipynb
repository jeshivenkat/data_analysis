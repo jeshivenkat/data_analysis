{
  "nbformat": 4,
  "nbformat_minor": 0,
  "metadata": {
    "colab": {
      "provenance": []
    },
    "kernelspec": {
      "name": "python3",
      "display_name": "Python 3"
    },
    "language_info": {
      "name": "python"
    }
  },
  "cells": [
    {
      "cell_type": "code",
      "execution_count": null,
      "metadata": {
        "colab": {
          "base_uri": "https://localhost:8080/"
        },
        "id": "z_W4SQrmq9dy",
        "outputId": "e0cebd94-713f-4f94-cacc-517b2439e055"
      },
      "outputs": [
        {
          "output_type": "stream",
          "name": "stdout",
          "text": [
            "LinearRegression()\n"
          ]
        },
        {
          "output_type": "execute_result",
          "data": {
            "text/plain": [
              "array([194.62337662])"
            ]
          },
          "metadata": {},
          "execution_count": 2
        }
      ],
      "source": [
        "from sklearn.linear_model import LinearRegression\n",
        "LR=LinearRegression()\n",
        "t=[[5],[7],[12],[16],[20]]\n",
        "m=[40,120,180,210,240]\n",
        "a=LR.fit(t,m)\n",
        "print(a)\n",
        "LR.predict([[15]])"
      ]
    },
    {
      "cell_type": "code",
      "source": [
        "\n",
        "\n",
        "\n"
      ],
      "metadata": {
        "colab": {
          "base_uri": "https://localhost:8080/"
        },
        "id": "impPh0v2fKOd",
        "outputId": "fef6418c-da58-456f-b6c6-afa64c751d41"
      },
      "execution_count": null,
      "outputs": [
        {
          "output_type": "stream",
          "name": "stdout",
          "text": [
            "Epoch 1/50\n",
            "1/1 - 2s - loss: 2.4742 - accuracy: 0.1000 - 2s/epoch - 2s/step\n",
            "Epoch 2/50\n",
            "1/1 - 0s - loss: 2.3785 - accuracy: 0.1000 - 12ms/epoch - 12ms/step\n",
            "Epoch 3/50\n",
            "1/1 - 0s - loss: 2.2891 - accuracy: 0.3000 - 16ms/epoch - 16ms/step\n",
            "Epoch 4/50\n",
            "1/1 - 0s - loss: 2.2025 - accuracy: 0.3000 - 14ms/epoch - 14ms/step\n",
            "Epoch 5/50\n",
            "1/1 - 0s - loss: 2.1169 - accuracy: 0.3000 - 18ms/epoch - 18ms/step\n",
            "Epoch 6/50\n",
            "1/1 - 0s - loss: 2.0323 - accuracy: 0.3000 - 13ms/epoch - 13ms/step\n",
            "Epoch 7/50\n",
            "1/1 - 0s - loss: 1.9495 - accuracy: 0.3000 - 13ms/epoch - 13ms/step\n",
            "Epoch 8/50\n",
            "1/1 - 0s - loss: 1.8687 - accuracy: 0.3000 - 11ms/epoch - 11ms/step\n",
            "Epoch 9/50\n",
            "1/1 - 0s - loss: 1.7888 - accuracy: 0.3000 - 11ms/epoch - 11ms/step\n",
            "Epoch 10/50\n",
            "1/1 - 0s - loss: 1.7081 - accuracy: 0.4000 - 16ms/epoch - 16ms/step\n",
            "Epoch 11/50\n",
            "1/1 - 0s - loss: 1.6268 - accuracy: 0.4000 - 12ms/epoch - 12ms/step\n",
            "Epoch 12/50\n",
            "1/1 - 0s - loss: 1.5480 - accuracy: 0.4000 - 14ms/epoch - 14ms/step\n",
            "Epoch 13/50\n",
            "1/1 - 0s - loss: 1.4754 - accuracy: 0.6000 - 15ms/epoch - 15ms/step\n",
            "Epoch 14/50\n",
            "1/1 - 0s - loss: 1.4106 - accuracy: 0.7000 - 16ms/epoch - 16ms/step\n",
            "Epoch 15/50\n",
            "1/1 - 0s - loss: 1.3520 - accuracy: 0.7000 - 19ms/epoch - 19ms/step\n",
            "Epoch 16/50\n",
            "1/1 - 0s - loss: 1.2966 - accuracy: 0.7000 - 17ms/epoch - 17ms/step\n",
            "Epoch 17/50\n",
            "1/1 - 0s - loss: 1.2427 - accuracy: 0.7000 - 17ms/epoch - 17ms/step\n",
            "Epoch 18/50\n",
            "1/1 - 0s - loss: 1.1904 - accuracy: 0.7000 - 18ms/epoch - 18ms/step\n",
            "Epoch 19/50\n",
            "1/1 - 0s - loss: 1.1406 - accuracy: 0.7000 - 18ms/epoch - 18ms/step\n",
            "Epoch 20/50\n",
            "1/1 - 0s - loss: 1.0931 - accuracy: 0.7000 - 14ms/epoch - 14ms/step\n",
            "Epoch 21/50\n",
            "1/1 - 0s - loss: 1.0462 - accuracy: 0.7000 - 13ms/epoch - 13ms/step\n",
            "Epoch 22/50\n",
            "1/1 - 0s - loss: 0.9991 - accuracy: 0.7000 - 13ms/epoch - 13ms/step\n",
            "Epoch 23/50\n",
            "1/1 - 0s - loss: 0.9532 - accuracy: 0.7000 - 19ms/epoch - 19ms/step\n",
            "Epoch 24/50\n",
            "1/1 - 0s - loss: 0.9099 - accuracy: 0.7000 - 25ms/epoch - 25ms/step\n",
            "Epoch 25/50\n",
            "1/1 - 0s - loss: 0.8688 - accuracy: 0.7000 - 18ms/epoch - 18ms/step\n",
            "Epoch 26/50\n",
            "1/1 - 0s - loss: 0.8285 - accuracy: 0.7000 - 15ms/epoch - 15ms/step\n",
            "Epoch 27/50\n",
            "1/1 - 0s - loss: 0.7894 - accuracy: 0.8000 - 21ms/epoch - 21ms/step\n",
            "Epoch 28/50\n",
            "1/1 - 0s - loss: 0.7530 - accuracy: 0.8000 - 14ms/epoch - 14ms/step\n",
            "Epoch 29/50\n",
            "1/1 - 0s - loss: 0.7202 - accuracy: 0.8000 - 16ms/epoch - 16ms/step\n",
            "Epoch 30/50\n",
            "1/1 - 0s - loss: 0.6907 - accuracy: 0.8000 - 15ms/epoch - 15ms/step\n",
            "Epoch 31/50\n",
            "1/1 - 0s - loss: 0.6636 - accuracy: 0.8000 - 14ms/epoch - 14ms/step\n",
            "Epoch 32/50\n",
            "1/1 - 0s - loss: 0.6385 - accuracy: 0.8000 - 15ms/epoch - 15ms/step\n",
            "Epoch 33/50\n",
            "1/1 - 0s - loss: 0.6156 - accuracy: 0.8000 - 14ms/epoch - 14ms/step\n",
            "Epoch 34/50\n",
            "1/1 - 0s - loss: 0.5950 - accuracy: 0.8000 - 14ms/epoch - 14ms/step\n",
            "Epoch 35/50\n",
            "1/1 - 0s - loss: 0.5761 - accuracy: 0.8000 - 13ms/epoch - 13ms/step\n",
            "Epoch 36/50\n",
            "1/1 - 0s - loss: 0.5585 - accuracy: 0.8000 - 14ms/epoch - 14ms/step\n",
            "Epoch 37/50\n",
            "1/1 - 0s - loss: 0.5421 - accuracy: 0.8000 - 15ms/epoch - 15ms/step\n",
            "Epoch 38/50\n",
            "1/1 - 0s - loss: 0.5268 - accuracy: 0.8000 - 14ms/epoch - 14ms/step\n",
            "Epoch 39/50\n",
            "1/1 - 0s - loss: 0.5123 - accuracy: 0.8000 - 14ms/epoch - 14ms/step\n",
            "Epoch 40/50\n",
            "1/1 - 0s - loss: 0.4983 - accuracy: 0.8000 - 15ms/epoch - 15ms/step\n",
            "Epoch 41/50\n",
            "1/1 - 0s - loss: 0.4852 - accuracy: 0.8000 - 14ms/epoch - 14ms/step\n",
            "Epoch 42/50\n",
            "1/1 - 0s - loss: 0.4730 - accuracy: 0.8000 - 30ms/epoch - 30ms/step\n",
            "Epoch 43/50\n",
            "1/1 - 0s - loss: 0.4614 - accuracy: 0.8000 - 13ms/epoch - 13ms/step\n",
            "Epoch 44/50\n",
            "1/1 - 0s - loss: 0.4503 - accuracy: 0.8000 - 13ms/epoch - 13ms/step\n",
            "Epoch 45/50\n",
            "1/1 - 0s - loss: 0.4399 - accuracy: 0.8000 - 12ms/epoch - 12ms/step\n",
            "Epoch 46/50\n",
            "1/1 - 0s - loss: 0.4302 - accuracy: 0.8000 - 15ms/epoch - 15ms/step\n",
            "Epoch 47/50\n",
            "1/1 - 0s - loss: 0.4211 - accuracy: 0.8000 - 16ms/epoch - 16ms/step\n",
            "Epoch 48/50\n",
            "1/1 - 0s - loss: 0.4128 - accuracy: 0.8000 - 13ms/epoch - 13ms/step\n",
            "Epoch 49/50\n",
            "1/1 - 0s - loss: 0.4051 - accuracy: 0.8000 - 17ms/epoch - 17ms/step\n",
            "Epoch 50/50\n",
            "1/1 - 0s - loss: 0.3981 - accuracy: 0.8000 - 14ms/epoch - 14ms/step\n"
          ]
        },
        {
          "output_type": "execute_result",
          "data": {
            "text/plain": [
              "<keras.src.callbacks.History at 0x7c622817bf40>"
            ]
          },
          "metadata": {},
          "execution_count": 1
        }
      ]
    },
    {
      "cell_type": "code",
      "source": [],
      "metadata": {
        "id": "tOB6PrvKfVJW"
      },
      "execution_count": null,
      "outputs": []
    },
    {
      "cell_type": "code",
      "source": [
        "import pandas as pd\n",
        "import numpy as np\n",
        "import matplotlib.pyplot as plt\n",
        "from sklearn.linear_model import LinearRegression\n",
        "from sklearn.model_selection import train_test_split as ttp #to break dataset␣\n",
        "from sklearn.metrics import classification_report # to generate classification␣\n",
        "t=pd.read_csv(\"/content/true.csv\")\n",
        "f=pd.read_csv(\"/content/fake.csv\")\n",
        "t.head(5)\n",
        "f.head(5)\n",
        "t.shape,f.shape\n",
        "t[\"class\"]=1\n",
        "f[\"class\"]=0\n",
        "t1=t.tail(10)\n",
        "for i in range(15,5,-1):\n",
        "     t.drop([i],axis=0, inplace=True)\n",
        "f1=t.tail(10)\n",
        "for i in range(15,5,-1):\n",
        "     f.drop([i],axis=0,inplace=True)\n",
        "tf=pd.concat([t1,f1],axis=0)\n",
        "tf.to_csv(\"tf.csv\")\n",
        "m=pd.concat([t,f],axis=0)\n",
        "m.head(10)\n",
        "print(m.groupby([\"class\"])[\"text\"].count())\n",
        "m.groupby([\"class\"])[\"text\"].count().plot(kind=\"bar\")\n",
        "plt.title(\"classes and text\",size=20)\n",
        "plt.xlabel(\"class\",size=20)\n",
        "plt.ylabel(\"text\",size=20)\n",
        "plt.show()\n",
        "print(m.groupby([\"class\"])[\"text\"].count())\n",
        "print(\"0=Fake news\\n1=True news\")\n",
        "m.groupby([\"class\"])[\"text\"].count().plot(kind=\"pie\")\n",
        "plt.title(\"Fake news and True news\",size=20)\n",
        "plt.show()"
      ],
      "metadata": {
        "colab": {
          "base_uri": "https://localhost:8080/",
          "height": 1000
        },
        "id": "JsMgyctH5Zs0",
        "outputId": "d1571998-7b37-4598-9268-e2819cc2202f"
      },
      "execution_count": null,
      "outputs": [
        {
          "output_type": "stream",
          "name": "stdout",
          "text": [
            "class\n",
            "0    32\n",
            "1    19\n",
            "Name: text, dtype: int64\n"
          ]
        },
        {
          "output_type": "display_data",
          "data": {
            "text/plain": [
              "<Figure size 640x480 with 1 Axes>"
            ],
            "image/png": "[encoded data removed]"
          },
          "metadata": {}
        },
        {
          "output_type": "stream",
          "name": "stdout",
          "text": [
            "class\n",
            "0    32\n",
            "1    19\n",
            "Name: text, dtype: int64\n",
            "0=Fake news\n",
            "1=True news\n"
          ]
        },
        {
          "output_type": "display_data",
          "data": {
            "text/plain": [
              "<Figure size 640x480 with 1 Axes>"
            ],
            "image/png": "[encoded data removed]"
          },
          "metadata": {}
        }
      ]
    },
    {
      "cell_type": "code",
      "source": [
        "import pandas as pd\n",
        "import numpy as np\n",
        "import matplotlib.pyplot as plt\n",
        "from sklearn.model_selection import train_test_split\n",
        "from sklearn.linear_model import LinearRegression\n",
        "from sklearn.metrics import mean_squared_error\n",
        "\n",
        "# Load the CSV dataset\n",
        "data = pd.read_csv('/content/tf.csv')\n",
        "\n",
        "# Display the first few rows of the dataset\n",
        "print(data.head())\n",
        "\n",
        "# Split the data into features (X) and target variable (y)\n",
        "X = data[['class']]\n",
        "y = data['text']\n",
        "\n",
        "# Split the data into training and test sets\n",
        "X_train, X_test, y_train, y_test = train_test_split(X, y, test_size=0.2, random_state=42)\n",
        "\n",
        "# Create and train the linear regression model\n",
        "model = LinearRegression()\n",
        "model.fit(X_train.values.reshape(-1,1), y_train)\n",
        "\n",
        "# Make predictions on the test data\n",
        "y_pred = model.predict(X_test.values.reshape(-1,1))\n",
        "# Plot the data and regression line\n",
        "plt.scatter(X_test, y_test, color='blue')\n",
        "plt.plot(X_test, y_pred, color='red', linewidth=2)\n",
        "plt.xlabel('Feature')\n",
        "plt.ylabel('Target')\n",
        "plt.title('Linear Regression')\n",
        "plt.show()\n",
        "\n"
      ],
      "metadata": {
        "colab": {
          "base_uri": "https://localhost:8080/",
          "height": 581
        },
        "id": "sWKa2kw3-zrd",
        "outputId": "791a7a3e-9cd5-4666-9d75-f22554d55c68"
      },
      "execution_count": null,
      "outputs": [
        {
          "output_type": "stream",
          "name": "stdout",
          "text": [
            "   Unnamed: 0  class  text  num  val\n",
            "0          19      1    46   67   55\n",
            "1          20      1    46   67   78\n",
            "2          21      1    90   99   90\n",
            "3          22      1    78   45   34\n",
            "4          23      1    56   90   67\n"
          ]
        },
        {
          "output_type": "display_data",
          "data": {
            "text/plain": [
              "<Figure size 640x480 with 1 Axes>"
            ],
            "image/png": "[encoded data removed]"
          },
          "metadata": {}
        }
      ]
    },
    {
      "cell_type": "code",
      "source": [
        " x=data[\"text\"]\n",
        " y=data[\"class\"]"
      ],
      "metadata": {
        "id": "vTtwzVOoOUxd"
      },
      "execution_count": null,
      "outputs": []
    },
    {
      "cell_type": "code",
      "source": [
        "x_train,x_test,y_train,y_test=ttp(x,y,test_size=0.25,random_state=0)"
      ],
      "metadata": {
        "id": "FRYrKEMQOfmO"
      },
      "execution_count": null,
      "outputs": []
    },
    {
      "cell_type": "code",
      "source": [
        "from sklearn.feature_extraction.text import TfidfVectorizer\n",
        "vector = TfidfVectorizer()"
      ],
      "metadata": {
        "id": "Hwcw4HolOlRQ"
      },
      "execution_count": null,
      "outputs": []
    },
    {
      "cell_type": "code",
      "source": [
        "from sklearn.linear_model import LogisticRegression\n",
        "from sklearn.model_selection import train_test_split\n",
        "from sklearn.metrics import accuracy_score,classification_report,precision_score,recall_score,confusion_matrix\n",
        "import seaborn as sns\n",
        "import matplotlib.pyplot as plt\n",
        "data=pd.read_csv(\"/content/tf.csv\")\n",
        "x=data[\"class\"]\n",
        "y=data[\"text\"]\n",
        "x_train,x_test,y_train,y_test=train_test_split(x,y,test_size=0.2,random_state=42)\n",
        "model=LogisticRegression(max_iter=303)\n",
        "model.fit(x_train.values.reshape(-1,1),y_train)\n",
        "prediction=model.predict(x_test.values.reshape(-1,1)) #training or fitting the model to the training set\n",
        "plt.scatter(x_test,prediction)\n",
        "# method computes the accuracy␣\n",
        "plt.xlabel('class')\n",
        "plt.ylabel('text')\n",
        "print(model.score(x_test.values.reshape(-1,1),prediction))\n",
        "a=accuracy_score(x_test,prediction)\n",
        "print(a)\n",
        "\n"
      ],
      "metadata": {
        "colab": {
          "base_uri": "https://localhost:8080/",
          "height": 485
        },
        "id": "cOZxlVbXKaIT",
        "outputId": "32ab59c3-75ba-459b-bed2-daf1bb6154d7"
      },
      "execution_count": null,
      "outputs": [
        {
          "output_type": "stream",
          "name": "stdout",
          "text": [
            "1.0\n",
            "0.0\n"
          ]
        },
        {
          "output_type": "display_data",
          "data": {
            "text/plain": [
              "<Figure size 640x480 with 1 Axes>"
            ],
            "image/png": "[encoded data removed]"
          },
          "metadata": {}
        }
      ]
    },
    {
      "cell_type": "code",
      "source": [],
      "metadata": {
        "id": "RJz48wToOy7t"
      },
      "execution_count": null,
      "outputs": []
    }
  ]
}