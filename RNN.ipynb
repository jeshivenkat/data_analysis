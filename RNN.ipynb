{
  "nbformat": 4,
  "nbformat_minor": 0,
  "metadata": {
    "colab": {
      "provenance": []
    },
    "kernelspec": {
      "name": "python3",
      "display_name": "Python 3"
    },
    "language_info": {
      "name": "python"
    }
  },
  "cells": [
    {
      "cell_type": "code",
      "execution_count": null,
      "metadata": {
        "colab": {
          "base_uri": "https://localhost:8080/"
        },
        "id": "3DqbOYXidhKa",
        "outputId": "02717793-b739-4794-8441-8372f38f23cd"
      },
      "outputs": [
        {
          "output_type": "stream",
          "name": "stdout",
          "text": [
            "Epoch 1/50\n",
            "1/1 - 3s - loss: 2.5093 - accuracy: 0.0000e+00 - 3s/epoch - 3s/step\n",
            "Epoch 2/50\n",
            "1/1 - 0s - loss: 2.4162 - accuracy: 0.1000 - 18ms/epoch - 18ms/step\n",
            "Epoch 3/50\n",
            "1/1 - 0s - loss: 2.3290 - accuracy: 0.2000 - 14ms/epoch - 14ms/step\n",
            "Epoch 4/50\n",
            "1/1 - 0s - loss: 2.2441 - accuracy: 0.4000 - 14ms/epoch - 14ms/step\n",
            "Epoch 5/50\n",
            "1/1 - 0s - loss: 2.1599 - accuracy: 0.4000 - 24ms/epoch - 24ms/step\n",
            "Epoch 6/50\n",
            "1/1 - 0s - loss: 2.0763 - accuracy: 0.3000 - 29ms/epoch - 29ms/step\n",
            "Epoch 7/50\n",
            "1/1 - 0s - loss: 1.9950 - accuracy: 0.3000 - 23ms/epoch - 23ms/step\n",
            "Epoch 8/50\n",
            "1/1 - 0s - loss: 1.9176 - accuracy: 0.3000 - 16ms/epoch - 16ms/step\n",
            "Epoch 9/50\n",
            "1/1 - 0s - loss: 1.8444 - accuracy: 0.3000 - 15ms/epoch - 15ms/step\n",
            "Epoch 10/50\n",
            "1/1 - 0s - loss: 1.7734 - accuracy: 0.3000 - 35ms/epoch - 35ms/step\n",
            "Epoch 11/50\n",
            "1/1 - 0s - loss: 1.7014 - accuracy: 0.4000 - 20ms/epoch - 20ms/step\n",
            "Epoch 12/50\n",
            "1/1 - 0s - loss: 1.6284 - accuracy: 0.4000 - 13ms/epoch - 13ms/step\n",
            "Epoch 13/50\n",
            "1/1 - 0s - loss: 1.5571 - accuracy: 0.4000 - 16ms/epoch - 16ms/step\n",
            "Epoch 14/50\n",
            "1/1 - 0s - loss: 1.4912 - accuracy: 0.4000 - 18ms/epoch - 18ms/step\n",
            "Epoch 15/50\n",
            "1/1 - 0s - loss: 1.4325 - accuracy: 0.4000 - 17ms/epoch - 17ms/step\n",
            "Epoch 16/50\n",
            "1/1 - 0s - loss: 1.3795 - accuracy: 0.7000 - 14ms/epoch - 14ms/step\n",
            "Epoch 17/50\n",
            "1/1 - 0s - loss: 1.3294 - accuracy: 0.7000 - 15ms/epoch - 15ms/step\n",
            "Epoch 18/50\n",
            "1/1 - 0s - loss: 1.2799 - accuracy: 0.7000 - 23ms/epoch - 23ms/step\n",
            "Epoch 19/50\n",
            "1/1 - 0s - loss: 1.2304 - accuracy: 0.7000 - 14ms/epoch - 14ms/step\n",
            "Epoch 20/50\n",
            "1/1 - 0s - loss: 1.1818 - accuracy: 0.7000 - 16ms/epoch - 16ms/step\n",
            "Epoch 21/50\n",
            "1/1 - 0s - loss: 1.1352 - accuracy: 0.7000 - 14ms/epoch - 14ms/step\n",
            "Epoch 22/50\n",
            "1/1 - 0s - loss: 1.0907 - accuracy: 0.7000 - 14ms/epoch - 14ms/step\n",
            "Epoch 23/50\n",
            "1/1 - 0s - loss: 1.0469 - accuracy: 0.7000 - 15ms/epoch - 15ms/step\n",
            "Epoch 24/50\n",
            "1/1 - 0s - loss: 1.0021 - accuracy: 0.7000 - 25ms/epoch - 25ms/step\n",
            "Epoch 25/50\n",
            "1/1 - 0s - loss: 0.9562 - accuracy: 0.7000 - 24ms/epoch - 24ms/step\n",
            "Epoch 26/50\n",
            "1/1 - 0s - loss: 0.9108 - accuracy: 0.7000 - 22ms/epoch - 22ms/step\n",
            "Epoch 27/50\n",
            "1/1 - 0s - loss: 0.8678 - accuracy: 0.7000 - 40ms/epoch - 40ms/step\n",
            "Epoch 28/50\n",
            "1/1 - 0s - loss: 0.8277 - accuracy: 0.7000 - 37ms/epoch - 37ms/step\n",
            "Epoch 29/50\n",
            "1/1 - 0s - loss: 0.7902 - accuracy: 0.8000 - 28ms/epoch - 28ms/step\n",
            "Epoch 30/50\n",
            "1/1 - 0s - loss: 0.7547 - accuracy: 0.8000 - 30ms/epoch - 30ms/step\n",
            "Epoch 31/50\n",
            "1/1 - 0s - loss: 0.7216 - accuracy: 0.8000 - 38ms/epoch - 38ms/step\n",
            "Epoch 32/50\n",
            "1/1 - 0s - loss: 0.6913 - accuracy: 0.8000 - 28ms/epoch - 28ms/step\n",
            "Epoch 33/50\n",
            "1/1 - 0s - loss: 0.6642 - accuracy: 0.8000 - 23ms/epoch - 23ms/step\n",
            "Epoch 34/50\n",
            "1/1 - 0s - loss: 0.6399 - accuracy: 0.8000 - 28ms/epoch - 28ms/step\n",
            "Epoch 35/50\n",
            "1/1 - 0s - loss: 0.6180 - accuracy: 0.8000 - 24ms/epoch - 24ms/step\n",
            "Epoch 36/50\n",
            "1/1 - 0s - loss: 0.5980 - accuracy: 0.8000 - 12ms/epoch - 12ms/step\n",
            "Epoch 37/50\n",
            "1/1 - 0s - loss: 0.5798 - accuracy: 0.8000 - 26ms/epoch - 26ms/step\n",
            "Epoch 38/50\n",
            "1/1 - 0s - loss: 0.5629 - accuracy: 0.8000 - 17ms/epoch - 17ms/step\n",
            "Epoch 39/50\n",
            "1/1 - 0s - loss: 0.5469 - accuracy: 0.8000 - 22ms/epoch - 22ms/step\n",
            "Epoch 40/50\n",
            "1/1 - 0s - loss: 0.5316 - accuracy: 0.8000 - 27ms/epoch - 27ms/step\n",
            "Epoch 41/50\n",
            "1/1 - 0s - loss: 0.5171 - accuracy: 0.8000 - 23ms/epoch - 23ms/step\n",
            "Epoch 42/50\n",
            "1/1 - 0s - loss: 0.5034 - accuracy: 0.8000 - 19ms/epoch - 19ms/step\n",
            "Epoch 43/50\n",
            "1/1 - 0s - loss: 0.4906 - accuracy: 0.8000 - 24ms/epoch - 24ms/step\n",
            "Epoch 44/50\n",
            "1/1 - 0s - loss: 0.4781 - accuracy: 0.8000 - 20ms/epoch - 20ms/step\n",
            "Epoch 45/50\n",
            "1/1 - 0s - loss: 0.4661 - accuracy: 0.8000 - 34ms/epoch - 34ms/step\n",
            "Epoch 46/50\n",
            "1/1 - 0s - loss: 0.4547 - accuracy: 0.8000 - 19ms/epoch - 19ms/step\n",
            "Epoch 47/50\n",
            "1/1 - 0s - loss: 0.4442 - accuracy: 0.8000 - 20ms/epoch - 20ms/step\n",
            "Epoch 48/50\n",
            "1/1 - 0s - loss: 0.4344 - accuracy: 0.8000 - 21ms/epoch - 21ms/step\n",
            "Epoch 49/50\n",
            "1/1 - 0s - loss: 0.4251 - accuracy: 0.8000 - 22ms/epoch - 22ms/step\n",
            "Epoch 50/50\n",
            "1/1 - 0s - loss: 0.4163 - accuracy: 0.8000 - 16ms/epoch - 16ms/step\n"
          ]
        },
        {
          "output_type": "execute_result",
          "data": {
            "text/plain": [
              "<keras.src.callbacks.History at 0x7dc38cf79120>"
            ]
          },
          "metadata": {},
          "execution_count": 1
        }
      ],
      "source": [
        "import numpy as np\n",
        "from keras.models import Sequential\n",
        "from keras.layers import SimpleRNN, Dense, Embedding\n",
        "from keras.preprocessing.text import Tokenizer\n",
        "from keras.preprocessing.sequence import pad_sequences\n",
        "from keras.utils import to_categorical\n",
        "\n",
        "# Generating some example sequential data\n",
        "sentences = ['I love learning','I love python','I hate school',\n",
        "             'Recurrent Neural Networks are powerful']\n",
        "# Tokenizing the words\n",
        "tokenizer = Tokenizer()\n",
        "tokenizer.fit_on_texts(sentences)\n",
        "total_words = len(tokenizer.word_index) + 1\n",
        "\n",
        "# Creating input sequences and their corresponding next words\n",
        "input_sequences = []\n",
        "for sentence in sentences:\n",
        "    tokenized_sentence = tokenizer.texts_to_sequences([sentence])[0]\n",
        "    for i in range(1, len(tokenized_sentence)):\n",
        "        n_gram_sequence = tokenized_sentence[:i+1]\n",
        "        input_sequences.append(n_gram_sequence)\n",
        "\n",
        "# Padding sequences for consistent input size\n",
        "max_sequence_length = max([len(seq) for seq in input_sequences])\n",
        "input_sequences = pad_sequences(input_sequences, maxlen=max_sequence_length, padding='pre')\n",
        "\n",
        "# Creating input and output data\n",
        "X, y = input_sequences[:, :-1], input_sequences[:, -1]\n",
        "y = to_categorical(y, num_classes=total_words)\n",
        "\n",
        "# Building a simple RNN model\n",
        "model = Sequential()\n",
        "model.add(Embedding(input_dim=total_words, output_dim=50, input_length=max_sequence_length-1))\n",
        "model.add(SimpleRNN(100, return_sequences=True))\n",
        "model.add(SimpleRNN(100))\n",
        "model.add(Dense(total_words, activation='softmax'))\n",
        "\n",
        "# Compiling the model\n",
        "model.compile(optimizer='adam', loss='categorical_crossentropy', metrics=['accuracy'])\n",
        "\n",
        "# Training the model\n",
        "model.fit(X, y, epochs=50, verbose=2)\n"
      ]
    },
    {
      "cell_type": "code",
      "source": [],
      "metadata": {
        "id": "elywvZzgd21o"
      },
      "execution_count": null,
      "outputs": []
    },
    {
      "cell_type": "code",
      "source": [
        "# Generating text using the trained model\n",
        "seed_text = input(\"Enter the starting word: \")\n",
        "next_words = int(input(\"Enter how many words to predict: \"))\n",
        "\n",
        "for _ in range(next_words):\n",
        "    tokenized_seed = tokenizer.texts_to_sequences([seed_text])[0]\n",
        "    tokenized_seed = pad_sequences([tokenized_seed], maxlen=max_sequence_length-1, padding='pre')\n",
        "    predicted_word_index = np.argmax(model.predict(tokenized_seed), axis=-1)\n",
        "    predicted_word = tokenizer.index_word[predicted_word_index[0]]\n",
        "    seed_text += \" \" + predicted_word\n",
        "\n",
        "print(seed_text)"
      ],
      "metadata": {
        "id": "n3ZpHI_kd6JD",
        "colab": {
          "base_uri": "https://localhost:8080/"
        },
        "outputId": "ba3d0827-9f6c-4af1-ceba-ae4476ee7230"
      },
      "execution_count": null,
      "outputs": [
        {
          "output_type": "stream",
          "name": "stdout",
          "text": [
            "Enter the starting word: i hate\n",
            "Enter how many words to predict: 3\n",
            "1/1 [==============================] - 0s 291ms/step\n",
            "1/1 [==============================] - 0s 20ms/step\n",
            "1/1 [==============================] - 0s 21ms/step\n",
            "i hate school neural are\n"
          ]
        }
      ]
    }
  ]
}